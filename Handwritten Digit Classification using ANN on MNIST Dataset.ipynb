{
 "cells": [
  {
   "cell_type": "code",
   "execution_count": 9,
   "id": "6fbb9816",
   "metadata": {},
   "outputs": [],
   "source": [
    "import tensorflow\n",
    "from tensorflow import keras\n",
    "from tensorflow.keras import Sequential\n",
    "from tensorflow.keras.layers import Dense,Flatten\n",
    "import matplotlib.pyplot as plt"
   ]
  },
  {
   "cell_type": "code",
   "execution_count": 5,
   "id": "beec833e",
   "metadata": {},
   "outputs": [],
   "source": [
    "(x_train,y_train),(x_test,y_test) = keras.datasets.mnist.load_data()"
   ]
  },
  {
   "cell_type": "code",
   "execution_count": 6,
   "id": "cfdd8a33",
   "metadata": {},
   "outputs": [
    {
     "data": {
      "text/plain": [
       "(60000, 28, 28)"
      ]
     },
     "execution_count": 6,
     "metadata": {},
     "output_type": "execute_result"
    }
   ],
   "source": [
    "x_train.shape"
   ]
  },
  {
   "cell_type": "code",
   "execution_count": 7,
   "id": "4eed881d",
   "metadata": {
    "scrolled": true
   },
   "outputs": [
    {
     "data": {
      "text/plain": [
       "array([[[0, 0, 0, ..., 0, 0, 0],\n",
       "        [0, 0, 0, ..., 0, 0, 0],\n",
       "        [0, 0, 0, ..., 0, 0, 0],\n",
       "        ...,\n",
       "        [0, 0, 0, ..., 0, 0, 0],\n",
       "        [0, 0, 0, ..., 0, 0, 0],\n",
       "        [0, 0, 0, ..., 0, 0, 0]],\n",
       "\n",
       "       [[0, 0, 0, ..., 0, 0, 0],\n",
       "        [0, 0, 0, ..., 0, 0, 0],\n",
       "        [0, 0, 0, ..., 0, 0, 0],\n",
       "        ...,\n",
       "        [0, 0, 0, ..., 0, 0, 0],\n",
       "        [0, 0, 0, ..., 0, 0, 0],\n",
       "        [0, 0, 0, ..., 0, 0, 0]],\n",
       "\n",
       "       [[0, 0, 0, ..., 0, 0, 0],\n",
       "        [0, 0, 0, ..., 0, 0, 0],\n",
       "        [0, 0, 0, ..., 0, 0, 0],\n",
       "        ...,\n",
       "        [0, 0, 0, ..., 0, 0, 0],\n",
       "        [0, 0, 0, ..., 0, 0, 0],\n",
       "        [0, 0, 0, ..., 0, 0, 0]],\n",
       "\n",
       "       ...,\n",
       "\n",
       "       [[0, 0, 0, ..., 0, 0, 0],\n",
       "        [0, 0, 0, ..., 0, 0, 0],\n",
       "        [0, 0, 0, ..., 0, 0, 0],\n",
       "        ...,\n",
       "        [0, 0, 0, ..., 0, 0, 0],\n",
       "        [0, 0, 0, ..., 0, 0, 0],\n",
       "        [0, 0, 0, ..., 0, 0, 0]],\n",
       "\n",
       "       [[0, 0, 0, ..., 0, 0, 0],\n",
       "        [0, 0, 0, ..., 0, 0, 0],\n",
       "        [0, 0, 0, ..., 0, 0, 0],\n",
       "        ...,\n",
       "        [0, 0, 0, ..., 0, 0, 0],\n",
       "        [0, 0, 0, ..., 0, 0, 0],\n",
       "        [0, 0, 0, ..., 0, 0, 0]],\n",
       "\n",
       "       [[0, 0, 0, ..., 0, 0, 0],\n",
       "        [0, 0, 0, ..., 0, 0, 0],\n",
       "        [0, 0, 0, ..., 0, 0, 0],\n",
       "        ...,\n",
       "        [0, 0, 0, ..., 0, 0, 0],\n",
       "        [0, 0, 0, ..., 0, 0, 0],\n",
       "        [0, 0, 0, ..., 0, 0, 0]]], dtype=uint8)"
      ]
     },
     "execution_count": 7,
     "metadata": {},
     "output_type": "execute_result"
    }
   ],
   "source": [
    "x_train"
   ]
  },
  {
   "cell_type": "code",
   "execution_count": 8,
   "id": "c904e0ae",
   "metadata": {},
   "outputs": [
    {
     "data": {
      "text/plain": [
       "array([5, 0, 4, ..., 5, 6, 8], dtype=uint8)"
      ]
     },
     "execution_count": 8,
     "metadata": {},
     "output_type": "execute_result"
    }
   ],
   "source": [
    "y_train"
   ]
  },
  {
   "cell_type": "code",
   "execution_count": 15,
   "id": "80dff40b",
   "metadata": {},
   "outputs": [
    {
     "data": {
      "text/plain": [
       "<matplotlib.image.AxesImage at 0x14c267ed0>"
      ]
     },
     "execution_count": 15,
     "metadata": {},
     "output_type": "execute_result"
    },
    {
     "data": {
      "image/png": "[encoded data removed]",
      "text/plain": [
       "<Figure size 640x480 with 1 Axes>"
      ]
     },
     "metadata": {},
     "output_type": "display_data"
    }
   ],
   "source": [
    "plt.imshow(x_train[69])"
   ]
  },
  {
   "cell_type": "code",
   "execution_count": 16,
   "id": "3ceed812",
   "metadata": {},
   "outputs": [],
   "source": [
    "x_train = x_train/255\n",
    "x_test = x_test/255"
   ]
  },
  {
   "cell_type": "code",
   "execution_count": 18,
   "id": "acb579b1",
   "metadata": {},
   "outputs": [],
   "source": [
    "#ANN"
   ]
  },
  {
   "cell_type": "code",
   "execution_count": 56,
   "id": "c23c3bd2",
   "metadata": {},
   "outputs": [],
   "source": [
    "model = Sequential()\n",
    "model.add(Flatten(input_shape=(28,28)))  #Convert into 1D layer, 28x28 i/p into 1x784\n",
    "model.add(Dense(128,activation='relu'))\n",
    "model.add(Dense(32,activation='relu'))\n",
    "model.add(Dense(10,activation='softmax')) #if more than 1 node in o/p use softmax activation."
   ]
  },
  {
   "cell_type": "code",
   "execution_count": 57,
   "id": "f2a8cdcc",
   "metadata": {},
   "outputs": [
    {
     "name": "stdout",
     "output_type": "stream",
     "text": [
      "Model: \"sequential_2\"\n",
      "_________________________________________________________________\n",
      " Layer (type)                Output Shape              Param #   \n",
      "=================================================================\n",
      " flatten_2 (Flatten)         (None, 784)               0         \n",
      "                                                                 \n",
      " dense_5 (Dense)             (None, 128)               100480    \n",
      "                                                                 \n",
      " dense_6 (Dense)             (None, 32)                4128      \n",
      "                                                                 \n",
      " dense_7 (Dense)             (None, 10)                330       \n",
      "                                                                 \n",
      "=================================================================\n",
      "Total params: 104938 (409.91 KB)\n",
      "Trainable params: 104938 (409.91 KB)\n",
      "Non-trainable params: 0 (0.00 Byte)\n",
      "_________________________________________________________________\n"
     ]
    }
   ],
   "source": [
    "model.summary()"
   ]
  },
  {
   "cell_type": "code",
   "execution_count": 58,
   "id": "9ebeb15f",
   "metadata": {},
   "outputs": [],
   "source": [
    "model.compile(loss='sparse_categorical_crossentropy',optimizer='Adam',metrics=['accuracy'])"
   ]
  },
  {
   "cell_type": "code",
   "execution_count": 59,
   "id": "0658ef0f",
   "metadata": {},
   "outputs": [
    {
     "name": "stdout",
     "output_type": "stream",
     "text": [
      "Epoch 1/25\n",
      "1500/1500 [==============================] - 2s 990us/step - loss: 0.2803 - accuracy: 0.9199 - val_loss: 0.1491 - val_accuracy: 0.9581\n",
      "Epoch 2/25\n",
      "1500/1500 [==============================] - 1s 947us/step - loss: 0.1233 - accuracy: 0.9636 - val_loss: 0.1177 - val_accuracy: 0.9624\n",
      "Epoch 3/25\n",
      "1500/1500 [==============================] - 1s 935us/step - loss: 0.0865 - accuracy: 0.9738 - val_loss: 0.0926 - val_accuracy: 0.9719\n",
      "Epoch 4/25\n",
      "1500/1500 [==============================] - 1s 996us/step - loss: 0.0637 - accuracy: 0.9798 - val_loss: 0.1108 - val_accuracy: 0.9678\n",
      "Epoch 5/25\n",
      "1500/1500 [==============================] - 1s 928us/step - loss: 0.0474 - accuracy: 0.9855 - val_loss: 0.0940 - val_accuracy: 0.9725\n",
      "Epoch 6/25\n",
      "1500/1500 [==============================] - 1s 928us/step - loss: 0.0402 - accuracy: 0.9874 - val_loss: 0.0970 - val_accuracy: 0.9737\n",
      "Epoch 7/25\n",
      "1500/1500 [==============================] - 1s 937us/step - loss: 0.0311 - accuracy: 0.9898 - val_loss: 0.1014 - val_accuracy: 0.9720\n",
      "Epoch 8/25\n",
      "1500/1500 [==============================] - 2s 1ms/step - loss: 0.0263 - accuracy: 0.9912 - val_loss: 0.1177 - val_accuracy: 0.9705\n",
      "Epoch 9/25\n",
      "1500/1500 [==============================] - 1s 954us/step - loss: 0.0222 - accuracy: 0.9922 - val_loss: 0.1175 - val_accuracy: 0.9698\n",
      "Epoch 10/25\n",
      "1500/1500 [==============================] - 1s 931us/step - loss: 0.0198 - accuracy: 0.9934 - val_loss: 0.1161 - val_accuracy: 0.9727\n",
      "Epoch 11/25\n",
      "1500/1500 [==============================] - 1s 950us/step - loss: 0.0174 - accuracy: 0.9940 - val_loss: 0.1183 - val_accuracy: 0.9738\n",
      "Epoch 12/25\n",
      "1500/1500 [==============================] - 1s 986us/step - loss: 0.0155 - accuracy: 0.9948 - val_loss: 0.1155 - val_accuracy: 0.9753\n",
      "Epoch 13/25\n",
      "1500/1500 [==============================] - 1s 984us/step - loss: 0.0148 - accuracy: 0.9950 - val_loss: 0.1122 - val_accuracy: 0.9763\n",
      "Epoch 14/25\n",
      "1500/1500 [==============================] - 2s 1ms/step - loss: 0.0130 - accuracy: 0.9954 - val_loss: 0.1282 - val_accuracy: 0.9735\n",
      "Epoch 15/25\n",
      "1500/1500 [==============================] - 1s 908us/step - loss: 0.0140 - accuracy: 0.9952 - val_loss: 0.1416 - val_accuracy: 0.9718\n",
      "Epoch 16/25\n",
      "1500/1500 [==============================] - 1s 941us/step - loss: 0.0113 - accuracy: 0.9961 - val_loss: 0.1296 - val_accuracy: 0.9772\n",
      "Epoch 17/25\n",
      "1500/1500 [==============================] - 1s 950us/step - loss: 0.0115 - accuracy: 0.9967 - val_loss: 0.1483 - val_accuracy: 0.9717\n",
      "Epoch 18/25\n",
      "1500/1500 [==============================] - 1s 961us/step - loss: 0.0103 - accuracy: 0.9965 - val_loss: 0.1313 - val_accuracy: 0.9746\n",
      "Epoch 19/25\n",
      "1500/1500 [==============================] - 2s 1ms/step - loss: 0.0102 - accuracy: 0.9965 - val_loss: 0.1439 - val_accuracy: 0.9724\n",
      "Epoch 20/25\n",
      "1500/1500 [==============================] - 1s 956us/step - loss: 0.0123 - accuracy: 0.9957 - val_loss: 0.1400 - val_accuracy: 0.9757\n",
      "Epoch 21/25\n",
      "1500/1500 [==============================] - 1s 973us/step - loss: 0.0098 - accuracy: 0.9970 - val_loss: 0.1336 - val_accuracy: 0.9747\n",
      "Epoch 22/25\n",
      "1500/1500 [==============================] - 2s 1ms/step - loss: 0.0091 - accuracy: 0.9969 - val_loss: 0.1575 - val_accuracy: 0.9753\n",
      "Epoch 23/25\n",
      "1500/1500 [==============================] - 1s 970us/step - loss: 0.0087 - accuracy: 0.9971 - val_loss: 0.1287 - val_accuracy: 0.9776\n",
      "Epoch 24/25\n",
      "1500/1500 [==============================] - 1s 976us/step - loss: 0.0087 - accuracy: 0.9969 - val_loss: 0.1433 - val_accuracy: 0.9757\n",
      "Epoch 25/25\n",
      "1500/1500 [==============================] - 1s 952us/step - loss: 0.0090 - accuracy: 0.9969 - val_loss: 0.1268 - val_accuracy: 0.9783\n"
     ]
    }
   ],
   "source": [
    "history = model.fit(x_train,y_train,epochs=25,validation_split=0.2)"
   ]
  },
  {
   "cell_type": "code",
   "execution_count": 60,
   "id": "a9799520",
   "metadata": {},
   "outputs": [
    {
     "name": "stdout",
     "output_type": "stream",
     "text": [
      "313/313 [==============================] - 0s 450us/step\n"
     ]
    }
   ],
   "source": [
    "y_prob = model.predict(x_test)"
   ]
  },
  {
   "cell_type": "code",
   "execution_count": 61,
   "id": "19720ba2",
   "metadata": {},
   "outputs": [
    {
     "data": {
      "text/plain": [
       "array([[3.7151473e-18, 1.6415177e-14, 9.7049107e-16, ..., 1.0000000e+00,\n",
       "        2.5298032e-17, 1.7866790e-11],\n",
       "       [6.8960096e-14, 3.1671042e-13, 9.9999988e-01, ..., 6.6332207e-21,\n",
       "        1.7052288e-07, 4.6208480e-23],\n",
       "       [1.0493813e-11, 1.0000000e+00, 3.6464975e-09, ..., 4.4062851e-08,\n",
       "        1.7904856e-08, 6.6811875e-15],\n",
       "       ...,\n",
       "       [5.2080548e-32, 6.0507646e-18, 8.7626770e-23, ..., 9.9224436e-16,\n",
       "        5.4138722e-23, 1.7075774e-16],\n",
       "       [6.2375932e-20, 6.7373133e-23, 8.5202907e-26, ..., 8.9314453e-24,\n",
       "        3.8765897e-11, 1.0337839e-23],\n",
       "       [5.3650759e-19, 3.3310374e-14, 1.8066061e-22, ..., 1.2491639e-20,\n",
       "        5.4533511e-18, 3.1014791e-20]], dtype=float32)"
      ]
     },
     "execution_count": 61,
     "metadata": {},
     "output_type": "execute_result"
    }
   ],
   "source": [
    "y_prob"
   ]
  },
  {
   "cell_type": "code",
   "execution_count": 62,
   "id": "a7969afa",
   "metadata": {},
   "outputs": [],
   "source": [
    "y_pred = y_prob.argmax(axis=1)"
   ]
  },
  {
   "cell_type": "code",
   "execution_count": 63,
   "id": "df82641f",
   "metadata": {},
   "outputs": [
    {
     "data": {
      "text/plain": [
       "array([7, 2, 1, ..., 4, 5, 6])"
      ]
     },
     "execution_count": 63,
     "metadata": {},
     "output_type": "execute_result"
    }
   ],
   "source": [
    "y_pred"
   ]
  },
  {
   "cell_type": "code",
   "execution_count": 64,
   "id": "1c8d80f9",
   "metadata": {},
   "outputs": [
    {
     "data": {
      "text/plain": [
       "0.9788"
      ]
     },
     "execution_count": 64,
     "metadata": {},
     "output_type": "execute_result"
    }
   ],
   "source": [
    "from sklearn.metrics import accuracy_score\n",
    "accuracy_score(y_test,y_pred)"
   ]
  },
  {
   "cell_type": "code",
   "execution_count": 65,
   "id": "0ffef6cc",
   "metadata": {},
   "outputs": [
    {
     "data": {
      "text/plain": [
       "[<matplotlib.lines.Line2D at 0x310e99e10>]"
      ]
     },
     "execution_count": 65,
     "metadata": {},
     "output_type": "execute_result"
    },
    {
     "data": {
      "image/png": "[encoded data removed]",
      "text/plain": [
       "<Figure size 640x480 with 1 Axes>"
      ]
     },
     "metadata": {},
     "output_type": "display_data"
    }
   ],
   "source": [
    "plt.plot(history.history['loss'])\n",
    "plt.plot(history.history['val_loss'])"
   ]
  },
  {
   "cell_type": "code",
   "execution_count": 66,
   "id": "0f4fca89",
   "metadata": {},
   "outputs": [
    {
     "data": {
      "text/plain": [
       "[<matplotlib.lines.Line2D at 0x310e83510>]"
      ]
     },
     "execution_count": 66,
     "metadata": {},
     "output_type": "execute_result"
    },
    {
     "data": {
      "image/png": "[encoded data removed]",
      "text/plain": [
       "<Figure size 640x480 with 1 Axes>"
      ]
     },
     "metadata": {},
     "output_type": "display_data"
    }
   ],
   "source": [
    "plt.plot(history.history['accuracy'])\n",
    "plt.plot(history.history['val_accuracy'])"
   ]
  },
  {
   "cell_type": "code",
   "execution_count": 69,
   "id": "58c8c390",
   "metadata": {
    "scrolled": false
   },
   "outputs": [
    {
     "data": {
      "text/plain": [
       "<matplotlib.image.AxesImage at 0x1776fa590>"
      ]
     },
     "execution_count": 69,
     "metadata": {},
     "output_type": "execute_result"
    },
    {
     "data": {
      "image/png": "[encoded data removed]",
      "text/plain": [
       "<Figure size 640x480 with 1 Axes>"
      ]
     },
     "metadata": {},
     "output_type": "display_data"
    }
   ],
   "source": [
    "plt.imshow(x_test[0])"
   ]
  },
  {
   "cell_type": "code",
   "execution_count": 72,
   "id": "d77f712f",
   "metadata": {},
   "outputs": [
    {
     "name": "stdout",
     "output_type": "stream",
     "text": [
      "1/1 [==============================] - 0s 12ms/step\n"
     ]
    },
    {
     "data": {
      "text/plain": [
       "array([7])"
      ]
     },
     "execution_count": 72,
     "metadata": {},
     "output_type": "execute_result"
    }
   ],
   "source": [
    "model.predict(x_test[0].reshape(1,28,28)).argmax(axis=1)"
   ]
  },
  {
   "cell_type": "code",
   "execution_count": 73,
   "id": "a9bd9193",
   "metadata": {},
   "outputs": [
    {
     "data": {
      "text/plain": [
       "<matplotlib.image.AxesImage at 0x17772eb10>"
      ]
     },
     "execution_count": 73,
     "metadata": {},
     "output_type": "execute_result"
    },
    {
     "data": {
      "image/png": "[encoded data removed]",
      "text/plain": [
       "<Figure size 640x480 with 1 Axes>"
      ]
     },
     "metadata": {},
     "output_type": "display_data"
    }
   ],
   "source": [
    "plt.imshow(x_test[5])"
   ]
  },
  {
   "cell_type": "code",
   "execution_count": 74,
   "id": "5f0b5e10",
   "metadata": {},
   "outputs": [
    {
     "name": "stdout",
     "output_type": "stream",
     "text": [
      "1/1 [==============================] - 0s 16ms/step\n"
     ]
    },
    {
     "data": {
      "text/plain": [
       "array([1])"
      ]
     },
     "execution_count": 74,
     "metadata": {},
     "output_type": "execute_result"
    }
   ],
   "source": [
    "model.predict(x_test[5].reshape(1,28,28)).argmax(axis=1)"
   ]
  },
  {
   "cell_type": "code",
   "execution_count": 68,
   "id": "f6609d80",
   "metadata": {},
   "outputs": [
    {
     "name": "stdout",
     "output_type": "stream",
     "text": [
      "1/1 [==============================] - 0s 13ms/step\n",
      "Predicted label: 5\n"
     ]
    }
   ],
   "source": [
    "from tensorflow.keras.preprocessing import image\n",
    "import numpy as np\n",
    "\n",
    "def predict_user_image(model, img_path):\n",
    "    # Load the image from the given path\n",
    "    img = image.load_img(img_path, color_mode='grayscale')\n",
    "    \n",
    "    # Resize the image to match the input shape of the model (28x28)\n",
    "    img = img.resize((28, 28))\n",
    "    \n",
    "    # Convert the image to a numpy array and normalize the pixel values\n",
    "    img_array = image.img_to_array(img) / 255.0\n",
    "    \n",
    "    # Reshape the image array to match the input shape of the model\n",
    "    img_array = img_array.reshape((1, 28, 28))\n",
    "    \n",
    "    # Make a prediction using the model\n",
    "    y_prob = model.predict(img_array)\n",
    "    \n",
    "    # Convert probabilities to class label\n",
    "    y_pred = np.argmax(y_prob)\n",
    "    \n",
    "    # Return the predicted label\n",
    "    return y_pred\n",
    "\n",
    "# Specify the path to the image you want to predict\n",
    "img_path = '/Users/dipeshkumar/Desktop/Screenshot 2024-04-23 at 11.39.23 PM.png'\n",
    "\n",
    "# Call the function with the trained model and the image path\n",
    "predicted_label = predict_user_image(model, img_path)\n",
    "\n",
    "print(f'Predicted label: {predicted_label}')\n"
   ]
  }
 ],
 "metadata": {
  "kernelspec": {
   "display_name": "Python 3 (ipykernel)",
   "language": "python",
   "name": "python3"
  },
  "language_info": {
   "codemirror_mode": {
    "name": "ipython",
    "version": 3
   },
   "file_extension": ".py",
   "mimetype": "text/x-python",
   "name": "python",
   "nbconvert_exporter": "python",
   "pygments_lexer": "ipython3",
   "version": "3.11.3"
  }
 },
 "nbformat": 4,
 "nbformat_minor": 5
}
